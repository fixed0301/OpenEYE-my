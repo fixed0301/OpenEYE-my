{
 "cells": [
  {
   "cell_type": "markdown",
   "metadata": {},
   "source": [
    "# closed_eyes_dataset을 200*200으로 resize하자!\n",
    "# test등 분할하기"
   ]
  },
  {
   "cell_type": "code",
   "execution_count": 1,
   "metadata": {},
   "outputs": [],
   "source": [
    "import tensorflow as tf\n",
    "import os\n",
    "from keras.preprocessing.image import ImageDataGenerator"
   ]
  },
  {
   "cell_type": "code",
   "execution_count": 2,
   "metadata": {},
   "outputs": [],
   "source": [
    "n_batches = 20"
   ]
  },
  {
   "cell_type": "code",
   "execution_count": 3,
   "metadata": {},
   "outputs": [],
   "source": [
    "dataset = './dataset'\n",
    "opened_data_path = 'E:/2023/2023_1_1/comp/dataset/opened_eyes_dataset'\n",
    "closed_data_path = 'E:/2023/2023_1_1/comp/dataset/closed_eyes_dataset'\n",
    "train_dir = 'E:/2023/2023_1_1/comp/dataset/train'\n",
    "test_dir = 'E:/2023/2023_1_1/comp/dataset/test'\n",
    "validation_dir = 'E:/2023/2023_1_1/comp/dataset/validation'"
   ]
  },
  {
   "cell_type": "code",
   "execution_count": 60,
   "metadata": {},
   "outputs": [
    {
     "name": "stdout",
     "output_type": "stream",
     "text": [
      "0\n"
     ]
    }
   ],
   "source": [
    "import os\n",
    "\n",
    "#이름 다시 설정\n",
    "file_names = os.listdir(closed_data_path)\n",
    "print(len(file_names))\n",
    "i = 1000\n",
    "for name in file_names:\n",
    "    src = os.path.join(closed_data_path, name)\n",
    "    dst = 'closed_eye_'+ str(i) +'.jpg'\n",
    "    if os.path.isfile(closed_data_path+'/'+dst):\n",
    "        continue\n",
    "    os.rename(src, dst)\n",
    "    i+=1 "
   ]
  },
  {
   "cell_type": "code",
   "execution_count": 4,
   "metadata": {},
   "outputs": [],
   "source": [
    "#model\n",
    "from tensorflow import keras\n",
    "from keras import layers\n",
    "from keras import models\n",
    "\n",
    "model = keras.Sequential()\n",
    "model.add(layers.Conv2D(32, (3, 3), activation = 'relu', input_shape=(200, 200, 3))) #input_shape 지정\n",
    "model.add(layers.MaxPooling2D(2, 2))\n",
    "model.add(layers.Conv2D(64, (3, 3), activation='relu')) \n",
    "model.add(layers.MaxPooling2D(2, 2)) \n",
    "model.add(layers.Conv2D(128, (3, 3), activation='relu'))\n",
    "model.add(layers.MaxPooling2D(2, 2)) \n",
    "model.add(layers.Flatten())\n",
    "model.add(layers.Dropout(0.5))\n",
    "model.add(layers.Dense(256, activation = 'relu'))\n",
    "model.add(layers.Dense(1, activation = 'sigmoid'))\n"
   ]
  },
  {
   "cell_type": "code",
   "execution_count": 5,
   "metadata": {},
   "outputs": [],
   "source": [
    "from keras import optimizers\n",
    "model.compile(loss='binary_crossentropy',\n",
    "    optimizer = optimizers.Adam(learning_rate = 1e-4),\n",
    "    metrics = ['accuracy'])"
   ]
  },
  {
   "cell_type": "code",
   "execution_count": 6,
   "metadata": {},
   "outputs": [
    {
     "name": "stdout",
     "output_type": "stream",
     "text": [
      "Model: \"sequential\"\n",
      "_________________________________________________________________\n",
      " Layer (type)                Output Shape              Param #   \n",
      "=================================================================\n",
      " conv2d (Conv2D)             (None, 198, 198, 32)      896       \n",
      "                                                                 \n",
      " max_pooling2d (MaxPooling2D  (None, 99, 99, 32)       0         \n",
      " )                                                               \n",
      "                                                                 \n",
      " conv2d_1 (Conv2D)           (None, 97, 97, 64)        18496     \n",
      "                                                                 \n",
      " max_pooling2d_1 (MaxPooling  (None, 48, 48, 64)       0         \n",
      " 2D)                                                             \n",
      "                                                                 \n",
      " conv2d_2 (Conv2D)           (None, 46, 46, 128)       73856     \n",
      "                                                                 \n",
      " max_pooling2d_2 (MaxPooling  (None, 23, 23, 128)      0         \n",
      " 2D)                                                             \n",
      "                                                                 \n",
      " flatten (Flatten)           (None, 67712)             0         \n",
      "                                                                 \n",
      " dropout (Dropout)           (None, 67712)             0         \n",
      "                                                                 \n",
      " dense (Dense)               (None, 256)               17334528  \n",
      "                                                                 \n",
      " dense_1 (Dense)             (None, 1)                 257       \n",
      "                                                                 \n",
      "=================================================================\n",
      "Total params: 17,428,033\n",
      "Trainable params: 17,428,033\n",
      "Non-trainable params: 0\n",
      "_________________________________________________________________\n"
     ]
    }
   ],
   "source": [
    "model.summary()"
   ]
  },
  {
   "cell_type": "code",
   "execution_count": 61,
   "metadata": {},
   "outputs": [
    {
     "name": "stdout",
     "output_type": "stream",
     "text": [
      "[]\n"
     ]
    }
   ],
   "source": [
    "#import os\n",
    "#file_names = os.listdir(closed_data_path) #경로를 리스트로 만드나보다\n",
    "#print(file_names)"
   ]
  },
  {
   "cell_type": "code",
   "execution_count": 7,
   "metadata": {},
   "outputs": [
    {
     "name": "stdout",
     "output_type": "stream",
     "text": [
      "Found 5274 images belonging to 2 classes.\n",
      "Found 1319 images belonging to 2 classes.\n",
      "Found 1323 images belonging to 2 classes.\n"
     ]
    }
   ],
   "source": [
    "train_datagen = ImageDataGenerator(rescale=1./255,\n",
    "                                   rotation_range=10,\n",
    "                                   shear_range=0.7, \n",
    "                                   width_shift_range=0.2,\n",
    "                                   height_shift_range=0.2,\n",
    "                                   zoom_range=[0.9, 2.0],\n",
    "                                   fill_mode='nearest')\n",
    "test_datagen = ImageDataGenerator(rescale=1./255)\n",
    "\n",
    "train_generator = train_datagen.flow_from_directory(\n",
    "    train_dir,\n",
    "    target_size=(200, 200),\n",
    "    batch_size=n_batches,\n",
    "    class_mode='binary'\n",
    ")\n",
    "test_generator = test_datagen.flow_from_directory(\n",
    "    test_dir,\n",
    "    target_size=(200, 200),\n",
    "    batch_size=n_batches,\n",
    "    class_mode='binary'\n",
    ")\n",
    "validation_generator = test_datagen.flow_from_directory(\n",
    "    validation_dir,\n",
    "    target_size=(200, 200),\n",
    "    batch_size=n_batches,\n",
    "    class_mode='binary'\n",
    ")"
   ]
  },
  {
   "cell_type": "code",
   "execution_count": 8,
   "metadata": {},
   "outputs": [
    {
     "name": "stdout",
     "output_type": "stream",
     "text": [
      "배치 데이터 크기: (20, 200, 200, 3)\n",
      "배치 레이블 크기: (20,)\n"
     ]
    }
   ],
   "source": [
    "for data_batch, label_batch in train_generator:\n",
    "  print('배치 데이터 크기:', data_batch.shape)\n",
    "  print('배치 레이블 크기:', label_batch.shape)\n",
    "  break"
   ]
  },
  {
   "cell_type": "code",
   "execution_count": 9,
   "metadata": {},
   "outputs": [
    {
     "name": "stdout",
     "output_type": "stream",
     "text": [
      "Epoch 1/100\n",
      "50/50 [==============================] - 112s 2s/step - loss: 0.4366 - accuracy: 0.8410 - val_loss: 0.4298 - val_accuracy: 0.8480\n",
      "Epoch 2/100\n",
      "50/50 [==============================] - 114s 2s/step - loss: 0.4350 - accuracy: 0.8360 - val_loss: 0.4250 - val_accuracy: 0.8520\n",
      "Epoch 3/100\n",
      "50/50 [==============================] - 102s 2s/step - loss: 0.4525 - accuracy: 0.8190 - val_loss: 0.3934 - val_accuracy: 0.8530\n",
      "Epoch 4/100\n",
      "50/50 [==============================] - 114s 2s/step - loss: 0.3770 - accuracy: 0.8680 - val_loss: 0.3973 - val_accuracy: 0.8510\n",
      "Epoch 5/100\n",
      "50/50 [==============================] - 113s 2s/step - loss: 0.4063 - accuracy: 0.8510 - val_loss: 0.3907 - val_accuracy: 0.8540\n",
      "Epoch 6/100\n",
      "50/50 [==============================] - 108s 2s/step - loss: 0.3959 - accuracy: 0.8451 - val_loss: 0.3686 - val_accuracy: 0.8540\n",
      "Epoch 7/100\n",
      "50/50 [==============================] - 108s 2s/step - loss: 0.3256 - accuracy: 0.8830 - val_loss: 0.3409 - val_accuracy: 0.8640\n",
      "Epoch 8/100\n",
      "50/50 [==============================] - 105s 2s/step - loss: 0.3773 - accuracy: 0.8460 - val_loss: 0.3611 - val_accuracy: 0.8480\n",
      "Epoch 9/100\n",
      "50/50 [==============================] - 104s 2s/step - loss: 0.3863 - accuracy: 0.8360 - val_loss: 0.3836 - val_accuracy: 0.8490\n",
      "Epoch 10/100\n",
      "50/50 [==============================] - 112s 2s/step - loss: 0.3947 - accuracy: 0.8450 - val_loss: 0.3528 - val_accuracy: 0.8510\n",
      "Epoch 11/100\n",
      "50/50 [==============================] - 121s 2s/step - loss: 0.3702 - accuracy: 0.8400 - val_loss: 0.3601 - val_accuracy: 0.8490\n",
      "Epoch 12/100\n",
      "50/50 [==============================] - 104s 2s/step - loss: 0.3548 - accuracy: 0.8470 - val_loss: 0.3342 - val_accuracy: 0.8470\n",
      "Epoch 13/100\n",
      "50/50 [==============================] - 112s 2s/step - loss: 0.3406 - accuracy: 0.8520 - val_loss: 0.3001 - val_accuracy: 0.8500\n",
      "Epoch 14/100\n",
      "50/50 [==============================] - 105s 2s/step - loss: 0.3698 - accuracy: 0.8410 - val_loss: 0.4389 - val_accuracy: 0.8550\n",
      "Epoch 15/100\n",
      "50/50 [==============================] - 104s 2s/step - loss: 0.3506 - accuracy: 0.8540 - val_loss: 0.3203 - val_accuracy: 0.8450\n",
      "Epoch 16/100\n",
      "50/50 [==============================] - 97s 2s/step - loss: 0.3093 - accuracy: 0.8670 - val_loss: 0.3188 - val_accuracy: 0.8430\n",
      "Epoch 17/100\n",
      "50/50 [==============================] - 91s 2s/step - loss: 0.3369 - accuracy: 0.8520 - val_loss: 0.2700 - val_accuracy: 0.8690\n",
      "Epoch 18/100\n",
      "50/50 [==============================] - 94s 2s/step - loss: 0.3378 - accuracy: 0.8490 - val_loss: 0.2891 - val_accuracy: 0.8610\n",
      "Epoch 19/100\n",
      "50/50 [==============================] - 92s 2s/step - loss: 0.2948 - accuracy: 0.8650 - val_loss: 0.2960 - val_accuracy: 0.8610\n",
      "Epoch 20/100\n",
      "50/50 [==============================] - 88s 2s/step - loss: 0.2908 - accuracy: 0.8783 - val_loss: 0.2323 - val_accuracy: 0.8920\n",
      "Epoch 21/100\n",
      "50/50 [==============================] - 89s 2s/step - loss: 0.3098 - accuracy: 0.8690 - val_loss: 0.2271 - val_accuracy: 0.9070\n",
      "Epoch 22/100\n",
      "50/50 [==============================] - 102s 2s/step - loss: 0.2769 - accuracy: 0.8760 - val_loss: 0.2172 - val_accuracy: 0.9160\n",
      "Epoch 23/100\n",
      "50/50 [==============================] - 97s 2s/step - loss: 0.2875 - accuracy: 0.8692 - val_loss: 0.2229 - val_accuracy: 0.9030\n",
      "Epoch 24/100\n",
      "50/50 [==============================] - 94s 2s/step - loss: 0.2836 - accuracy: 0.8880 - val_loss: 0.2800 - val_accuracy: 0.8620\n",
      "Epoch 25/100\n",
      "50/50 [==============================] - 102s 2s/step - loss: 0.2606 - accuracy: 0.8960 - val_loss: 0.2594 - val_accuracy: 0.8690\n",
      "Epoch 26/100\n",
      "50/50 [==============================] - 99s 2s/step - loss: 0.2819 - accuracy: 0.8850 - val_loss: 0.2183 - val_accuracy: 0.9360\n",
      "Epoch 27/100\n",
      "50/50 [==============================] - 89s 2s/step - loss: 0.2985 - accuracy: 0.8760 - val_loss: 0.2375 - val_accuracy: 0.8900\n",
      "Epoch 28/100\n",
      "50/50 [==============================] - 86s 2s/step - loss: 0.2918 - accuracy: 0.8790 - val_loss: 0.2330 - val_accuracy: 0.8990\n",
      "Epoch 29/100\n",
      "50/50 [==============================] - 82s 2s/step - loss: 0.2486 - accuracy: 0.8950 - val_loss: 0.2041 - val_accuracy: 0.9130\n",
      "Epoch 30/100\n",
      "50/50 [==============================] - 1022s 21s/step - loss: 0.2534 - accuracy: 0.8990 - val_loss: 0.2026 - val_accuracy: 0.9120\n",
      "Epoch 31/100\n",
      "50/50 [==============================] - 80s 2s/step - loss: 0.2843 - accuracy: 0.8740 - val_loss: 0.1643 - val_accuracy: 0.9400\n",
      "Epoch 32/100\n",
      "50/50 [==============================] - 84s 2s/step - loss: 0.2483 - accuracy: 0.9000 - val_loss: 0.1678 - val_accuracy: 0.9520\n",
      "Epoch 33/100\n",
      "50/50 [==============================] - 81s 2s/step - loss: 0.2686 - accuracy: 0.8860 - val_loss: 0.1912 - val_accuracy: 0.9220\n",
      "Epoch 34/100\n",
      "50/50 [==============================] - 78s 2s/step - loss: 0.2628 - accuracy: 0.8960 - val_loss: 0.1766 - val_accuracy: 0.9440\n",
      "Epoch 35/100\n",
      "50/50 [==============================] - 76s 2s/step - loss: 0.2406 - accuracy: 0.9014 - val_loss: 0.1818 - val_accuracy: 0.9390\n",
      "Epoch 36/100\n",
      "50/50 [==============================] - 76s 2s/step - loss: 0.2138 - accuracy: 0.9190 - val_loss: 0.1428 - val_accuracy: 0.9490\n",
      "Epoch 37/100\n",
      "50/50 [==============================] - 76s 2s/step - loss: 0.2475 - accuracy: 0.9110 - val_loss: 0.1857 - val_accuracy: 0.9150\n",
      "Epoch 38/100\n",
      "50/50 [==============================] - 75s 2s/step - loss: 0.2417 - accuracy: 0.9030 - val_loss: 0.1480 - val_accuracy: 0.9480\n",
      "Epoch 39/100\n",
      "50/50 [==============================] - 77s 2s/step - loss: 0.2363 - accuracy: 0.8980 - val_loss: 0.1551 - val_accuracy: 0.9460\n",
      "Epoch 40/100\n",
      "50/50 [==============================] - 78s 2s/step - loss: 0.2315 - accuracy: 0.9080 - val_loss: 0.2132 - val_accuracy: 0.9330\n",
      "Epoch 41/100\n",
      "50/50 [==============================] - 78s 2s/step - loss: 0.1896 - accuracy: 0.9260 - val_loss: 0.1463 - val_accuracy: 0.9490\n",
      "Epoch 42/100\n",
      "50/50 [==============================] - 85s 2s/step - loss: 0.2305 - accuracy: 0.9040 - val_loss: 0.1446 - val_accuracy: 0.9480\n",
      "Epoch 43/100\n",
      "50/50 [==============================] - 99s 2s/step - loss: 0.2066 - accuracy: 0.9220 - val_loss: 0.1524 - val_accuracy: 0.9520\n",
      "Epoch 44/100\n",
      "50/50 [==============================] - 103s 2s/step - loss: 0.2136 - accuracy: 0.9130 - val_loss: 0.1374 - val_accuracy: 0.9470\n",
      "Epoch 45/100\n",
      "50/50 [==============================] - 98s 2s/step - loss: 0.2156 - accuracy: 0.9220 - val_loss: 0.1827 - val_accuracy: 0.9230\n",
      "Epoch 46/100\n",
      "50/50 [==============================] - 102s 2s/step - loss: 0.2081 - accuracy: 0.9150 - val_loss: 0.1258 - val_accuracy: 0.9570\n",
      "Epoch 47/100\n",
      "50/50 [==============================] - 99s 2s/step - loss: 0.2145 - accuracy: 0.9205 - val_loss: 0.1311 - val_accuracy: 0.9560\n",
      "Epoch 48/100\n",
      "50/50 [==============================] - 97s 2s/step - loss: 0.2085 - accuracy: 0.9140 - val_loss: 0.1688 - val_accuracy: 0.9470\n",
      "Epoch 49/100\n",
      "50/50 [==============================] - 98s 2s/step - loss: 0.1999 - accuracy: 0.9210 - val_loss: 0.1165 - val_accuracy: 0.9610\n",
      "Epoch 50/100\n",
      "50/50 [==============================] - 98s 2s/step - loss: 0.2569 - accuracy: 0.8823 - val_loss: 0.1442 - val_accuracy: 0.9530\n",
      "Epoch 51/100\n",
      "50/50 [==============================] - 104s 2s/step - loss: 0.2272 - accuracy: 0.9130 - val_loss: 0.1292 - val_accuracy: 0.9480\n",
      "Epoch 52/100\n",
      "50/50 [==============================] - 104s 2s/step - loss: 0.2141 - accuracy: 0.9110 - val_loss: 0.1464 - val_accuracy: 0.9480\n",
      "Epoch 53/100\n",
      "50/50 [==============================] - 102s 2s/step - loss: 0.1959 - accuracy: 0.9160 - val_loss: 0.1103 - val_accuracy: 0.9630\n",
      "Epoch 54/100\n",
      "50/50 [==============================] - 105s 2s/step - loss: 0.2200 - accuracy: 0.9090 - val_loss: 0.1613 - val_accuracy: 0.9490\n",
      "Epoch 55/100\n",
      "50/50 [==============================] - 101s 2s/step - loss: 0.1948 - accuracy: 0.9250 - val_loss: 0.1955 - val_accuracy: 0.9340\n",
      "Epoch 56/100\n",
      "50/50 [==============================] - 103s 2s/step - loss: 0.1784 - accuracy: 0.9220 - val_loss: 0.1254 - val_accuracy: 0.9550\n",
      "Epoch 57/100\n",
      "50/50 [==============================] - 103s 2s/step - loss: 0.2144 - accuracy: 0.9000 - val_loss: 0.1370 - val_accuracy: 0.9620\n",
      "Epoch 58/100\n",
      "50/50 [==============================] - 103s 2s/step - loss: 0.2108 - accuracy: 0.9105 - val_loss: 0.1312 - val_accuracy: 0.9560\n",
      "Epoch 59/100\n",
      "50/50 [==============================] - 105s 2s/step - loss: 0.2136 - accuracy: 0.9170 - val_loss: 0.1901 - val_accuracy: 0.9380\n",
      "Epoch 60/100\n",
      "50/50 [==============================] - 106s 2s/step - loss: 0.1916 - accuracy: 0.9190 - val_loss: 0.1354 - val_accuracy: 0.9540\n",
      "Epoch 61/100\n",
      "50/50 [==============================] - 104s 2s/step - loss: 0.2054 - accuracy: 0.9180 - val_loss: 0.1108 - val_accuracy: 0.9680\n",
      "Epoch 62/100\n",
      "50/50 [==============================] - 108s 2s/step - loss: 0.2036 - accuracy: 0.9170 - val_loss: 0.1327 - val_accuracy: 0.9580\n",
      "Epoch 63/100\n",
      "50/50 [==============================] - 114s 2s/step - loss: 0.1979 - accuracy: 0.9240 - val_loss: 0.1374 - val_accuracy: 0.9580\n",
      "Epoch 64/100\n",
      "50/50 [==============================] - 114s 2s/step - loss: 0.2498 - accuracy: 0.8950 - val_loss: 0.1505 - val_accuracy: 0.9380\n",
      "Epoch 65/100\n",
      "50/50 [==============================] - 135s 3s/step - loss: 0.1840 - accuracy: 0.9290 - val_loss: 0.2305 - val_accuracy: 0.9210\n",
      "Epoch 66/100\n",
      "50/50 [==============================] - 107s 2s/step - loss: 0.1809 - accuracy: 0.9230 - val_loss: 0.1596 - val_accuracy: 0.9400\n",
      "Epoch 67/100\n",
      "50/50 [==============================] - 107s 2s/step - loss: 0.1992 - accuracy: 0.9280 - val_loss: 0.1196 - val_accuracy: 0.9590\n",
      "Epoch 68/100\n",
      "50/50 [==============================] - 123s 2s/step - loss: 0.1886 - accuracy: 0.9310 - val_loss: 0.1119 - val_accuracy: 0.9660\n",
      "Epoch 69/100\n",
      "50/50 [==============================] - 119s 2s/step - loss: 0.2021 - accuracy: 0.9190 - val_loss: 0.1242 - val_accuracy: 0.9660\n",
      "Epoch 70/100\n",
      "50/50 [==============================] - 115s 2s/step - loss: 0.1976 - accuracy: 0.9225 - val_loss: 0.1467 - val_accuracy: 0.9490\n",
      "Epoch 71/100\n",
      "50/50 [==============================] - 107s 2s/step - loss: 0.2102 - accuracy: 0.9000 - val_loss: 0.1296 - val_accuracy: 0.9620\n",
      "Epoch 72/100\n",
      "50/50 [==============================] - 107s 2s/step - loss: 0.1714 - accuracy: 0.9340 - val_loss: 0.1116 - val_accuracy: 0.9650\n",
      "Epoch 73/100\n",
      "50/50 [==============================] - 106s 2s/step - loss: 0.1884 - accuracy: 0.9140 - val_loss: 0.1272 - val_accuracy: 0.9590\n",
      "Epoch 74/100\n",
      "50/50 [==============================] - 109s 2s/step - loss: 0.1626 - accuracy: 0.9360 - val_loss: 0.1907 - val_accuracy: 0.9260\n",
      "Epoch 75/100\n",
      "50/50 [==============================] - 106s 2s/step - loss: 0.2152 - accuracy: 0.9110 - val_loss: 0.2313 - val_accuracy: 0.9190\n",
      "Epoch 76/100\n",
      "50/50 [==============================] - 96s 2s/step - loss: 0.1541 - accuracy: 0.9410 - val_loss: 0.1271 - val_accuracy: 0.9550\n",
      "Epoch 77/100\n",
      "50/50 [==============================] - 100s 2s/step - loss: 0.1381 - accuracy: 0.9490 - val_loss: 0.1072 - val_accuracy: 0.9640\n",
      "Epoch 78/100\n",
      "50/50 [==============================] - 116s 2s/step - loss: 0.1624 - accuracy: 0.9290 - val_loss: 0.1126 - val_accuracy: 0.9630\n",
      "Epoch 79/100\n",
      "50/50 [==============================] - 125s 3s/step - loss: 0.1831 - accuracy: 0.9480 - val_loss: 0.1184 - val_accuracy: 0.9570\n",
      "Epoch 80/100\n",
      "50/50 [==============================] - 134s 3s/step - loss: 0.1863 - accuracy: 0.9240 - val_loss: 0.0937 - val_accuracy: 0.9710\n",
      "Epoch 81/100\n",
      "50/50 [==============================] - 134s 3s/step - loss: 0.1801 - accuracy: 0.9260 - val_loss: 0.1290 - val_accuracy: 0.9570\n",
      "Epoch 82/100\n",
      "50/50 [==============================] - 127s 3s/step - loss: 0.1566 - accuracy: 0.9450 - val_loss: 0.1204 - val_accuracy: 0.9540\n",
      "Epoch 83/100\n",
      "50/50 [==============================] - 126s 3s/step - loss: 0.1928 - accuracy: 0.9250 - val_loss: 0.1230 - val_accuracy: 0.9540\n",
      "Epoch 84/100\n",
      "50/50 [==============================] - 126s 3s/step - loss: 0.2053 - accuracy: 0.9220 - val_loss: 0.2469 - val_accuracy: 0.9110\n",
      "Epoch 85/100\n",
      "50/50 [==============================] - 128s 3s/step - loss: 0.1592 - accuracy: 0.9360 - val_loss: 0.1076 - val_accuracy: 0.9640\n",
      "Epoch 86/100\n",
      "50/50 [==============================] - 128s 3s/step - loss: 0.1766 - accuracy: 0.9280 - val_loss: 0.1109 - val_accuracy: 0.9640\n",
      "Epoch 87/100\n",
      "50/50 [==============================] - 130s 3s/step - loss: 0.1550 - accuracy: 0.9440 - val_loss: 0.1295 - val_accuracy: 0.9480\n",
      "Epoch 88/100\n",
      "50/50 [==============================] - 130s 3s/step - loss: 0.1839 - accuracy: 0.9310 - val_loss: 0.2032 - val_accuracy: 0.9360\n",
      "Epoch 89/100\n",
      "50/50 [==============================] - 129s 3s/step - loss: 0.1621 - accuracy: 0.9480 - val_loss: 0.1188 - val_accuracy: 0.9530\n",
      "Epoch 90/100\n",
      "50/50 [==============================] - 131s 3s/step - loss: 0.1589 - accuracy: 0.9310 - val_loss: 0.2048 - val_accuracy: 0.9200\n",
      "Epoch 91/100\n",
      "50/50 [==============================] - 401s 8s/step - loss: 0.1795 - accuracy: 0.9320 - val_loss: 0.1253 - val_accuracy: 0.9520\n",
      "Epoch 92/100\n",
      "50/50 [==============================] - 101s 2s/step - loss: 0.2279 - accuracy: 0.9160 - val_loss: 0.1515 - val_accuracy: 0.9550\n",
      "Epoch 93/100\n",
      "50/50 [==============================] - 108s 2s/step - loss: 0.1645 - accuracy: 0.9370 - val_loss: 0.2421 - val_accuracy: 0.9060\n",
      "Epoch 94/100\n",
      "50/50 [==============================] - 115s 2s/step - loss: 0.1565 - accuracy: 0.9410 - val_loss: 0.1349 - val_accuracy: 0.9550\n",
      "Epoch 95/100\n",
      "50/50 [==============================] - 120s 2s/step - loss: 0.1485 - accuracy: 0.9330 - val_loss: 0.1392 - val_accuracy: 0.9460\n",
      "Epoch 96/100\n",
      "50/50 [==============================] - 127s 3s/step - loss: 0.1532 - accuracy: 0.9420 - val_loss: 0.1253 - val_accuracy: 0.9550\n",
      "Epoch 97/100\n",
      "50/50 [==============================] - 122s 2s/step - loss: 0.1725 - accuracy: 0.9300 - val_loss: 0.2009 - val_accuracy: 0.9250\n",
      "Epoch 98/100\n",
      "50/50 [==============================] - 121s 2s/step - loss: 0.1630 - accuracy: 0.9467 - val_loss: 0.1633 - val_accuracy: 0.9390\n",
      "Epoch 99/100\n",
      "50/50 [==============================] - ETA: 0s - loss: 0.1824 - accuracy: 0.9200  "
     ]
    }
   ],
   "source": [
    "callbacks = [tf.keras.callbacks.TensorBoard('./logs_model3')]\n",
    "history = model.fit(\n",
    "    x= train_generator, \n",
    "    steps_per_epoch=50, #10*4도 가능 len(X_train)//batch_size 최대 224\n",
    "    epochs=100,\n",
    "    validation_data=validation_generator,\n",
    "    validation_steps=50\n",
    "\n",
    ")"
   ]
  },
  {
   "cell_type": "code",
   "execution_count": 1,
   "metadata": {},
   "outputs": [
    {
     "ename": "NameError",
     "evalue": "name 'history' is not defined",
     "output_type": "error",
     "traceback": [
      "\u001b[1;31m---------------------------------------------------------------------------\u001b[0m",
      "\u001b[1;31mNameError\u001b[0m                                 Traceback (most recent call last)",
      "\u001b[1;32m~\\AppData\\Local\\Temp\\ipykernel_5648\\922377541.py\u001b[0m in \u001b[0;36m<module>\u001b[1;34m\u001b[0m\n\u001b[0;32m      1\u001b[0m \u001b[1;32mimport\u001b[0m \u001b[0mmatplotlib\u001b[0m\u001b[1;33m.\u001b[0m\u001b[0mpyplot\u001b[0m \u001b[1;32mas\u001b[0m \u001b[0mplt\u001b[0m\u001b[1;33m\u001b[0m\u001b[1;33m\u001b[0m\u001b[0m\n\u001b[1;32m----> 2\u001b[1;33m \u001b[0macc\u001b[0m \u001b[1;33m=\u001b[0m \u001b[0mhistory\u001b[0m\u001b[1;33m.\u001b[0m\u001b[0mhistory\u001b[0m\u001b[1;33m[\u001b[0m\u001b[1;34m'accuracy'\u001b[0m\u001b[1;33m]\u001b[0m\u001b[1;33m\u001b[0m\u001b[1;33m\u001b[0m\u001b[0m\n\u001b[0m\u001b[0;32m      3\u001b[0m \u001b[0mval_acc\u001b[0m \u001b[1;33m=\u001b[0m \u001b[0mhistory\u001b[0m\u001b[1;33m.\u001b[0m\u001b[0mhistory\u001b[0m\u001b[1;33m[\u001b[0m\u001b[1;34m'val_acc'\u001b[0m\u001b[1;33m]\u001b[0m\u001b[1;33m\u001b[0m\u001b[1;33m\u001b[0m\u001b[0m\n\u001b[0;32m      4\u001b[0m \u001b[0mloss\u001b[0m \u001b[1;33m=\u001b[0m \u001b[0mhistory\u001b[0m\u001b[1;33m.\u001b[0m\u001b[0mhistory\u001b[0m\u001b[1;33m[\u001b[0m\u001b[1;34m'loss'\u001b[0m\u001b[1;33m]\u001b[0m\u001b[1;33m\u001b[0m\u001b[1;33m\u001b[0m\u001b[0m\n\u001b[0;32m      5\u001b[0m \u001b[0mval_loss\u001b[0m \u001b[1;33m=\u001b[0m \u001b[0mhistory\u001b[0m\u001b[1;33m.\u001b[0m\u001b[0mhistory\u001b[0m\u001b[1;33m[\u001b[0m\u001b[1;34m'val_loss'\u001b[0m\u001b[1;33m]\u001b[0m\u001b[1;33m\u001b[0m\u001b[1;33m\u001b[0m\u001b[0m\n",
      "\u001b[1;31mNameError\u001b[0m: name 'history' is not defined"
     ]
    }
   ],
   "source": [
    "import matplotlib.pyplot as plt\n",
    "acc = history.history['accuracy']\n",
    "val_acc = history.history['val_acc']\n",
    "loss = history.history['loss']\n",
    "val_loss = history.history['val_loss']\n",
    "\n",
    "epochs = range(len(acc))\n",
    "\n",
    "plt.plot(epochs, acc, 'bo', label='Training acc')\n",
    "plt.plot(epochs, val_acc, 'b', label='Validation acc')\n",
    "plt.title('Training and validation accuracy')\n",
    "plt.legend()\n",
    "\n",
    "plt.figure()\n",
    "\n",
    "plt.plot(epochs, loss, 'bo', label='Training loss')\n",
    "plt.plot(epochs, val_loss, 'b', label='Validation loss')\n",
    "plt.title('Training and validation loss')\n",
    "plt.legend()\n",
    "\n",
    "plt.show()"
   ]
  },
  {
   "cell_type": "markdown",
   "metadata": {},
   "source": [
    "datagen = ImageDataGenerator(\n",
    "      rotation_range=40,\n",
    "      width_shift_range=0.2,\n",
    "      height_shift_range=0.2,\n",
    "      zoom_range=0.2,\n",
    "      horizontal_flip=True,\n",
    "      vertical_flip=True,\n",
    "      fill_mode='nearest')"
   ]
  },
  {
   "cell_type": "markdown",
   "metadata": {},
   "source": [
    "#이미지 전처리 유틸리티 모듈\n",
    "from keras.preprocessing import image\n",
    "from keras.utils import load_img, img_to_array, array_to_img\n",
    "fnames = sorted([os.path.join(train_dir + '/closed', fname) for fname in os.listdir(train_dir + '/closed')])\n",
    "\n",
    "img_path = fnames[12]\n",
    "img = load_img(img_path, target_size=(150, 150))\n",
    "\n",
    "x = img_to_array(img)\n",
    "\n",
    "#(1, 150, 150, 3)\n",
    "x = x.reshape((1,) + x.shape)\n",
    "\n",
    "#flow() 메서드는 랜덤하게 변환된 이미지의 배치를 생성\n",
    "i = 0\n",
    "for batch in datagen.flow(x, batch_size=1):\n",
    "    plt.figure(i)\n",
    "    imgplot = plt.imshow(array_to_img(batch[0]))\n",
    "    i += 1\n",
    "    if i % 4 == 0:\n",
    "        break\n",
    "\n",
    "plt.show()"
   ]
  },
  {
   "cell_type": "code",
   "execution_count": 117,
   "metadata": {},
   "outputs": [
    {
     "ename": "ImportError",
     "evalue": "You must install pydot (`pip install pydot`) for model_to_dot to work.",
     "output_type": "error",
     "traceback": [
      "\u001b[1;31m---------------------------------------------------------------------------\u001b[0m",
      "\u001b[1;31mImportError\u001b[0m                               Traceback (most recent call last)",
      "\u001b[1;32m~\\AppData\\Local\\Temp\\ipykernel_18620\\2350026125.py\u001b[0m in \u001b[0;36m<module>\u001b[1;34m\u001b[0m\n\u001b[0;32m      4\u001b[0m \u001b[0mget_ipython\u001b[0m\u001b[1;33m(\u001b[0m\u001b[1;33m)\u001b[0m\u001b[1;33m.\u001b[0m\u001b[0mrun_line_magic\u001b[0m\u001b[1;33m(\u001b[0m\u001b[1;34m'matplotlib'\u001b[0m\u001b[1;33m,\u001b[0m \u001b[1;34m'inline'\u001b[0m\u001b[1;33m)\u001b[0m\u001b[1;33m\u001b[0m\u001b[1;33m\u001b[0m\u001b[0m\n\u001b[0;32m      5\u001b[0m \u001b[1;33m\u001b[0m\u001b[0m\n\u001b[1;32m----> 6\u001b[1;33m \u001b[0mSVG\u001b[0m\u001b[1;33m(\u001b[0m\u001b[0mmodel_to_dot\u001b[0m\u001b[1;33m(\u001b[0m\u001b[0mmodel\u001b[0m\u001b[1;33m,\u001b[0m \u001b[0mshow_shapes\u001b[0m\u001b[1;33m=\u001b[0m\u001b[1;32mTrue\u001b[0m\u001b[1;33m)\u001b[0m\u001b[1;33m.\u001b[0m\u001b[0mcreate\u001b[0m\u001b[1;33m(\u001b[0m\u001b[0mprog\u001b[0m\u001b[1;33m=\u001b[0m\u001b[1;34m'dot'\u001b[0m\u001b[1;33m,\u001b[0m \u001b[0mformat\u001b[0m\u001b[1;33m=\u001b[0m\u001b[1;34m'svg'\u001b[0m\u001b[1;33m)\u001b[0m\u001b[1;33m)\u001b[0m\u001b[1;33m\u001b[0m\u001b[1;33m\u001b[0m\u001b[0m\n\u001b[0m",
      "\u001b[1;32mc:\\Users\\Administrator\\anaconda3\\lib\\site-packages\\keras\\utils\\vis_utils.py\u001b[0m in \u001b[0;36mmodel_to_dot\u001b[1;34m(model, show_shapes, show_dtype, show_layer_names, rankdir, expand_nested, dpi, subgraph, layer_range, show_layer_activations)\u001b[0m\n\u001b[0;32m    136\u001b[0m \u001b[1;33m\u001b[0m\u001b[0m\n\u001b[0;32m    137\u001b[0m     \u001b[1;32mif\u001b[0m \u001b[1;32mnot\u001b[0m \u001b[0mcheck_pydot\u001b[0m\u001b[1;33m(\u001b[0m\u001b[1;33m)\u001b[0m\u001b[1;33m:\u001b[0m\u001b[1;33m\u001b[0m\u001b[1;33m\u001b[0m\u001b[0m\n\u001b[1;32m--> 138\u001b[1;33m         raise ImportError(\n\u001b[0m\u001b[0;32m    139\u001b[0m             \u001b[1;34m\"You must install pydot (`pip install pydot`) for \"\u001b[0m\u001b[1;33m\u001b[0m\u001b[1;33m\u001b[0m\u001b[0m\n\u001b[0;32m    140\u001b[0m             \u001b[1;34m\"model_to_dot to work.\"\u001b[0m\u001b[1;33m\u001b[0m\u001b[1;33m\u001b[0m\u001b[0m\n",
      "\u001b[1;31mImportError\u001b[0m: You must install pydot (`pip install pydot`) for model_to_dot to work."
     ]
    }
   ],
   "source": [
    "from IPython.display import SVG\n",
    "from keras.utils.vis_utils import model_to_dot\n",
    "\n",
    "%matplotlib inline\n",
    "\n",
    "SVG(model_to_dot(model, show_shapes=True).create(prog='dot', format='svg'))"
   ]
  }
 ],
 "metadata": {
  "kernelspec": {
   "display_name": "base",
   "language": "python",
   "name": "python3"
  },
  "language_info": {
   "codemirror_mode": {
    "name": "ipython",
    "version": 3
   },
   "file_extension": ".py",
   "mimetype": "text/x-python",
   "name": "python",
   "nbconvert_exporter": "python",
   "pygments_lexer": "ipython3",
   "version": "3.9.13"
  },
  "orig_nbformat": 4
 },
 "nbformat": 4,
 "nbformat_minor": 2
}
